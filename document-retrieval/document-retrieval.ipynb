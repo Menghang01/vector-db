{
 "cells": [
  {
   "cell_type": "code",
   "execution_count": null,
   "metadata": {},
   "outputs": [],
   "source": [
    "from sentence_transformers import SentenceTransformer\n",
    "\n",
    "# 1. Load a pretrained Sentence Transformer model\n",
    "model = SentenceTransformer(\"all-MiniLM-L6-v2\")\n",
    "\n",
    "# The sentences to encode\n",
    "sentences = [\n",
    "    \"The weather is lovely today.\",\n",
    "    \"It's so sunny outside!\",\n",
    "    \"He drove to the stadium.\",\n",
    "]\n",
    "\n",
    "# 2. Calculate embeddings by calling model.encode()\n",
    "embeddings = model.encode(sentences)\n",
    "print(embeddings.shape)\n",
    "# [3, 384]\n",
    "\n",
    "# 3. Calculate the embedding similarities\n",
    "similarities = model.similarity(embeddings, embeddings)\n",
    "print(similarities)\n",
    "# tensor([[1.0000, 0.6660, 0.1046],\n",
    "#         [0.6660, 1.0000, 0.1411],\n",
    "#         [0.1046, 0.1411, 1.0000]])"
   ]
  },
  {
   "cell_type": "code",
   "execution_count": null,
   "metadata": {},
   "outputs": [],
   "source": [
    "from sentence_transformers import SentenceTransformer\n",
    "sentences = [\"ខ្ញុំស្រលាញ់កម្ពុជា\", \"ខ្ញុំចូលចិត្តកម្ពុជា\"]\n",
    "\n",
    "model = SentenceTransformer('sentence-transformers/LaBSE')\n",
    "embeddings = model.encode(sentences)\n",
    "print(embeddings)\n"
   ]
  },
  {
   "cell_type": "code",
   "execution_count": null,
   "metadata": {},
   "outputs": [],
   "source": [
    "import pandas as pd \n",
    "import numpy as np \n",
    "df = pd.read_csv(\"AG_news_samples.csv\")"
   ]
  },
  {
   "cell_type": "code",
   "execution_count": null,
   "metadata": {},
   "outputs": [],
   "source": [
    "df_ = df[:50].copy()"
   ]
  },
  {
   "cell_type": "code",
   "execution_count": null,
   "metadata": {},
   "outputs": [],
   "source": [
    "df_[\"embedded_title\"] = df_[\"title\"].apply(lambda x: model.encode(x))"
   ]
  },
  {
   "cell_type": "code",
   "execution_count": null,
   "metadata": {},
   "outputs": [],
   "source": [
    "df_[\"embedded_desc\"] = df_[\"description\"].apply(lambda x: model.encode(x))"
   ]
  },
  {
   "cell_type": "code",
   "execution_count": null,
   "metadata": {},
   "outputs": [],
   "source": [
    "import chromadb\n",
    "from chromadb.utils import embedding_functions\n",
    "EMBED_MODEL = \"all-MiniLM-L6-v2\"\n",
    "# setup Chroma in-memory, for easy prototyping. Can add persistence easily!\n",
    "client = chromadb.Client()\n",
    "\n",
    "\n",
    "embedding_functions = embedding_functions.SentenceTransformerEmbeddingFunction(EMBED_MODEL)\n"
   ]
  },
  {
   "cell_type": "code",
   "execution_count": null,
   "metadata": {},
   "outputs": [],
   "source": [
    "collection = client.get_or_create_collection(\"news-documents\", embedding_function=embedding_functions,  metadata={\"hnsw:space\": \"cosine\"},)\n"
   ]
  },
  {
   "cell_type": "code",
   "execution_count": null,
   "metadata": {},
   "outputs": [],
   "source": [
    "docuemnts = df_[\"description\"].values.tolist()"
   ]
  },
  {
   "cell_type": "code",
   "execution_count": null,
   "metadata": {},
   "outputs": [],
   "source": [
    "docuemnts"
   ]
  },
  {
   "cell_type": "code",
   "execution_count": null,
   "metadata": {},
   "outputs": [],
   "source": [
    "collection.add(documents=docuemnts, ids=[f\"id{i}\" for i in range(len(df_))])"
   ]
  },
  {
   "cell_type": "code",
   "execution_count": 29,
   "metadata": {},
   "outputs": [
    {
     "data": {
      "text/plain": [
       "{'ids': [['id9', 'id17', 'id12', 'id10', 'id32']],\n",
       " 'distances': [[0.6826481819152832,\n",
       "   0.7472950220108032,\n",
       "   0.7811960577964783,\n",
       "   0.7954901456832886,\n",
       "   0.8065580129623413]],\n",
       " 'metadatas': [[{'genre': 'Sci/Tech'},\n",
       "   {'genre': 'Sci/Tech'},\n",
       "   {'genre': 'Sci/Tech'},\n",
       "   {'genre': 'World'},\n",
       "   {'genre': 'Sci/Tech'}]],\n",
       " 'embeddings': None,\n",
       " 'documents': [['The Microsoft CEO says one way to stem growing piracy of Windows and Office in emerging markets is to offer low-cost computers.',\n",
       "   'A new, optional log-on service from America Online that makes it harder for scammers to access a persons online account will not be available for Macintosh ',\n",
       "   \"PalmSource surprised the mobile vendor community today with the announcement that it will acquire China MobileSoft (CMS), ostensibly to leverage that company's expertise in building a mobile version of the Linux operating system.\",\n",
       "   'RIYADH, Saudi Arabia -- Saudi police are seeking two young men in the killing of a Briton in a Riyadh parking lot, the Interior Ministry said today, and the British ambassador called it a terrorist attack.',\n",
       "   'But fresh antitrust suit is in the envelope, says Novell']],\n",
       " 'uris': None,\n",
       " 'data': None,\n",
       " 'included': ['metadatas', 'documents', 'distances']}"
      ]
     },
     "execution_count": 29,
     "metadata": {},
     "output_type": "execute_result"
    }
   ],
   "source": [
    "query_results = collection.query(\n",
    " query_texts=[\"pirate\"],\n",
    "   n_results=5,\n",
    " )\n",
    "query_results"
   ]
  },
  {
   "cell_type": "code",
   "execution_count": null,
   "metadata": {},
   "outputs": [],
   "source": [
    "genres = [{\"genre\": g}for g in df_[\"label\"]]"
   ]
  },
  {
   "cell_type": "code",
   "execution_count": null,
   "metadata": {},
   "outputs": [],
   "source": [
    "collection.update(ids=[f\"id{i}\" for i in range(len(df_))], metadatas=genres)"
   ]
  },
  {
   "cell_type": "code",
   "execution_count": null,
   "metadata": {},
   "outputs": [],
   "source": [
    "results = collection.query(query_texts=[\"Science\"],  n_results=5)\n",
    "results\n"
   ]
  },
  {
   "cell_type": "code",
   "execution_count": null,
   "metadata": {},
   "outputs": [],
   "source": []
  }
 ],
 "metadata": {
  "kernelspec": {
   "display_name": "torch",
   "language": "python",
   "name": "python3"
  },
  "language_info": {
   "codemirror_mode": {
    "name": "ipython",
    "version": 3
   },
   "file_extension": ".py",
   "mimetype": "text/x-python",
   "name": "python",
   "nbconvert_exporter": "python",
   "pygments_lexer": "ipython3",
   "version": "3.11.2"
  }
 },
 "nbformat": 4,
 "nbformat_minor": 2
}
